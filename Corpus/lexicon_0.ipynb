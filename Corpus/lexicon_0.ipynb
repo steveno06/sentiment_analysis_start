{
 "cells": [
  {
   "cell_type": "code",
   "execution_count": 5,
   "metadata": {},
   "outputs": [
    {
     "name": "stderr",
     "output_type": "stream",
     "text": [
      "[nltk_data] Downloading package punkt to\n",
      "[nltk_data]     /Users/stevenohrdorf/nltk_data...\n",
      "[nltk_data]   Package punkt is already up-to-date!\n"
     ]
    }
   ],
   "source": [
    "import csv\n",
    "import nltk\n",
    "from nltk.tokenize import word_tokenize\n",
    "from nltk.corpus import stopwords\n",
    "from nltk.stem import WordNetLemmatizer\n",
    "\n",
    "from sklearn.metrics import accuracy_score\n",
    "nltk.download('punkt')\n",
    "try:\n",
    "    nltk.data.find('corpora/stopwords')\n",
    "except LookupError:\n",
    "    nltk.download('stopwords')\n",
    "\n",
    "if not nltk.corpus.wordnet.fileids():\n",
    "    nltk.download('wordnet', quiet=True)\n",
    "\n",
    "\n"
   ]
  },
  {
   "cell_type": "code",
   "execution_count": 6,
   "metadata": {},
   "outputs": [],
   "source": [
    "csv_file = '/Users/stevenohrdorf/Desktop/LexiconDictionaries/Adaptation/IMDB_Dataset.csv'\n",
    "reviews = []\n",
    "\n",
    "with open(csv_file, 'r', encoding='utf-8') as file:\n",
    "    reader = csv.DictReader(file)\n",
    "    for row in reader:\n",
    "        review = row['review']\n",
    "        sentiment = row['sentiment']\n",
    "        reviews.append((review, sentiment))\n",
    "\n",
    "lemmatizer = WordNetLemmatizer()\n",
    "stop_words = set(stopwords.words('english'))\n",
    "\n",
    "def preprocess(document):\n",
    "    tokens = word_tokenize(document.lower())\n",
    "    preprocessed_tokens = []\n",
    "    for token in tokens:\n",
    "        if token.isalpha() and token not in stop_words:\n",
    "            preprocessed_tokens.append(lemmatizer.lemmatize(token))\n",
    "        \n",
    "    return preprocessed_tokens\n",
    "\n",
    "def extract_terms(reviews, category):\n",
    "    terms = []\n",
    "    for review, sentiment in reviews:\n",
    "        if sentiment == category:\n",
    "            tokens = preprocess(review)\n",
    "            terms.extend(tokens)\n",
    "    return terms\n",
    "\n",
    "#Performing the sentiment analysis\n",
    "\n",
    "train_size = int(0.8 * len(reviews))\n",
    "train_reviews = reviews[:train_size]\n",
    "test_reviews = reviews[train_size:]\n",
    "\n",
    "positive_terms = extract_terms(train_reviews, 'positive')\n",
    "negative_terms = extract_terms(train_reviews, 'negative')\n",
    "\n",
    "\n"
   ]
  },
  {
   "cell_type": "code",
   "execution_count": null,
   "metadata": {},
   "outputs": [],
   "source": [
    "positive_term_freq = nltk.FreqDist(positive_terms)\n",
    "negative_term_freq = nltk.FreqDist(negative_terms)\n",
    "\n",
    "threshold = 5\n",
    "lexicon =[]\n",
    "\n"
   ]
  },
  {
   "cell_type": "code",
   "execution_count": null,
   "metadata": {},
   "outputs": [],
   "source": [
    "for term, pos_freq in positive_term_freq.items():\n",
    "    neg_freq = negative_term_freq.get(term, 0)\n",
    "\n",
    "    freq_diff = pos_freq - neg_freq\n",
    "\n",
    "    if freq_diff > threshold:\n",
    "        lexicon.append((term, freq_diff))\n",
    "    elif freq_diff < -threshold:\n",
    "        lexicon.append((term, freq_diff))\n",
    "\n",
    "\n",
    "lexicon.sort(key=lambda x: x[1], reverse=True)\n",
    "\n",
    "y_true = []\n",
    "for _, sentiment in test_reviews:\n",
    "    y_true.append(sentiment)\n",
    "\n",
    "y_pred = []\n",
    "\n",
    "for review, _ in test_reviews:\n",
    "    tokens = preprocess(review)\n",
    "    sentiment_score = 0\n",
    "    for term, freq_diff in lexicon:\n",
    "        if term in tokens:\n",
    "            sentiment_score = sentiment_score + freq_diff\n",
    "    \n",
    "    sentiment = 'positive' if sentiment_score > 0 else 'negative'\n",
    "    y_pred.append(sentiment)\n",
    "\n",
    "accuracy = accuracy_score(y_true, y_pred)\n",
    "print(\"Accuracy:\", accuracy)"
   ]
  }
 ],
 "metadata": {
  "kernelspec": {
   "display_name": "myenv",
   "language": "python",
   "name": "python3"
  },
  "language_info": {
   "codemirror_mode": {
    "name": "ipython",
    "version": 3
   },
   "file_extension": ".py",
   "mimetype": "text/x-python",
   "name": "python",
   "nbconvert_exporter": "python",
   "pygments_lexer": "ipython3",
   "version": "3.10.5"
  },
  "orig_nbformat": 4
 },
 "nbformat": 4,
 "nbformat_minor": 2
}
